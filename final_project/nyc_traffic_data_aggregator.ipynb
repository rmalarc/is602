{
 "cells": [
  {
   "cell_type": "code",
   "execution_count": 1,
   "metadata": {
    "collapsed": true
   },
   "outputs": [],
   "source": [
    "import urllib\n",
    "import time"
   ]
  },
  {
   "cell_type": "markdown",
   "metadata": {},
   "source": [
    "# Objective\n",
    "\n",
    "The overall purpose of the project is to be able to use traffic cammera data in order to estimate traffic volume and traffic speed. \n",
    "\n",
    "Before we do that, we need to build a historical training set. We identified the folloiwing datasources that we will use in order to generate the models:\n",
    "\n",
    "* NYC Real-Time Traffic Cameras:  http://nyctmc.org/\n",
    "* NYC Real-Time Traffic Speed Data: https://data.cityofnewyork.us/Transportation/Real-Time-Traffic-Speed-Data/xsat-x5sa\n",
    "* Current Weather Data: http://openweathermap.org/current\n",
    "\n",
    "The goal of this script is to build a dataset composed of real-time traffic camera images, traffic speed and weather data."
   ]
  },
  {
   "cell_type": "markdown",
   "metadata": {},
   "source": [
    "# Methodology\n",
    "\n",
    "## Data Collection\n",
    "\n",
    "For the purpose of this project, we will collect data for a specific road in NYC. After an initial review of the datasources, we selected the Brooklyn Queens Expressway as a good candidate as it offers good coverage and overlap of camera images, traffic speed and weather data.\n",
    "\n",
    "In particular we will collect camera images from the following locations:\n",
    "\n",
    "* Van Wyck Expwy @ 87 Ave: http://nyctmc.org/google_popup.php?cid=590\n",
    "* Van Wyck Expwy @ Hillside Ave: http://nyctmc.org/google_popup.php?cid=587\n",
    "* Van Wyck Expwy @ 91 Ave: http://nyctmc.org/google_popup.php?cid=586\n",
    "* Van Wyck Expwy @ 101 Ave SB: http://nyctmc.org/google_popup.php?cid=584\n",
    "* Van Wyck Expwy @ 101 Ave NB: http://nyctmc.org/google_popup.php?cid=582\n",
    "\n",
    "We will collect camera images and speed data at 30 minute intervals for a period of 7 days.\n",
    "\n",
    "### Camera Image URL\n",
    "\n",
    "The following are the corresponding URLs of the actual images for each of the cameras above: \n",
    "\n",
    "* Van Wyck Expwy @ 87 Ave: http://207.251.86.238/cctv594.jpg\n",
    "* Van Wyck Expwy @ Hillside Ave: http://207.251.86.238/cctv593.jpg\n",
    "* Van Wyck Expwy @ 91 Ave: http://207.251.86.238/cctv592.jpg\n",
    "* Van Wyck Expwy @ 101 Ave SB: http://207.251.86.238/cctv590.jpg\n",
    "* Van Wyck Expwy @ 101 Ave NB http://207.251.86.238/cctv589.jpg\n",
    "\n",
    "The actual image URLs were obtained by inspecting the source code of the corresponding camera page.\n",
    "\n",
    "### Traffic Speed Data URL\n",
    "\n",
    "The real-time traffic speed data is all contained in one file: http://207.251.86.229/nyc-links-cams/LinkSpeedQuery.txt\n",
    "\n",
    "We will also download a copy of this file for the purpose of training the model.\n",
    "\n",
    "###  Weather Data URL\n",
    "\n",
    "After obtaining an API key from the OpenWeatherMap, we will use the following URL to download current weather data: http://api.openweathermap.org/data/2.5/weather?q=jamaica,us&appid=2de143494c0b295cca9337e1e96b00e0"
   ]
  },
  {
   "cell_type": "markdown",
   "metadata": {},
   "source": [
    "# The Code"
   ]
  },
  {
   "cell_type": "markdown",
   "metadata": {},
   "source": [
    "Let's load some meta-data about the cameras, including the URL, camera name, etc."
   ]
  },
  {
   "cell_type": "code",
   "execution_count": 2,
   "metadata": {
    "collapsed": false
   },
   "outputs": [],
   "source": [
    "cameras= [\n",
    "    {'name':'Van Wyck Expwy @ 87 Ave', 'url': 'http://207.251.86.238/cctv594.jpg','short_name':'cctv594'},\n",
    "    {'name':'Van Wyck Expwy @ Hillside Ave', 'url': 'http://207.251.86.238/cctv593.jpg','short_name':'cctv593'},\n",
    "    {'name':'Van Wyck Expwy @ 91 Ave', 'url': 'http://207.251.86.238/cctv592.jpg','short_name':'cctv592'},\n",
    "    {'name':'Van Wyck Expwy @ 101 Ave SB', 'url': 'http://207.251.86.238/cctv590.jpg','short_name':'cctv590'},\n",
    "    {'name':'Van Wyck Expwy @ 101 Ave NB', 'url': 'http://207.251.86.238/cctv589.jpg','short_name':'cctv589'}\n",
    "              ]"
   ]
  },
  {
   "cell_type": "code",
   "execution_count": 3,
   "metadata": {
    "collapsed": true
   },
   "outputs": [],
   "source": [
    "speed_data_url = 'http://207.251.86.229/nyc-links-cams/LinkSpeedQuery.txt'\n",
    "weather_data_url = 'http://api.openweathermap.org/data/2.5/weather?q=jamaica,us&appid=2de143494c0b295cca9337e1e96b00e0'"
   ]
  },
  {
   "cell_type": "markdown",
   "metadata": {},
   "source": [
    "Let's also define the function that will actually download the data from the respective URLs"
   ]
  },
  {
   "cell_type": "code",
   "execution_count": 4,
   "metadata": {
    "collapsed": false
   },
   "outputs": [],
   "source": [
    "def get_from_url(url, output_filename):\n",
    "    urllib.urlretrieve(url, output_filename)\n",
    "\n",
    "    \n",
    "def get_images(cameras, prefix):\n",
    "    for camera in cameras:\n",
    "        get_from_url(camera['url'], prefix+'_'+camera['short_name']+'.jpg')\n",
    "    \n",
    "def get_speed_data(url,prefix):\n",
    "    get_from_url (url, prefix+'_speed_data.txt')\n",
    "\n",
    "def get_weather_data(url, prefix):\n",
    "    get_from_url (url, prefix+'_weather_data.json')\n",
    "\n",
    "def log_entry(logfile, timestamp):\n",
    "    logfile.write(timestamp+'\\n')"
   ]
  },
  {
   "cell_type": "markdown",
   "metadata": {},
   "source": [
    "Now that we have our function that gets the data from the cameras array as well as the speed data url, let's loop it so we get a sample every 30 minutes for a total of 7 days (336 samples)."
   ]
  },
  {
   "cell_type": "code",
   "execution_count": 5,
   "metadata": {
    "collapsed": false
   },
   "outputs": [],
   "source": [
    "\n",
    "\n",
    "basedir = 'camera_data'\n",
    "log_filename = basedir+'/data_capture_log.txt'\n",
    "samples = 336\n",
    "sec_between_samples = 30 * 60\n",
    "\n",
    "i = 0\n",
    "while i<samples:\n",
    "    timestamp = str(int(time.time()))\n",
    "    prefix=basedir+'/'+timestamp\n",
    "    get_images(cameras,prefix)\n",
    "    get_speed_data(speed_data_url,prefix)\n",
    "    get_weather_data(weather_data_url,prefix)\n",
    "    f= open(log_filename, 'a')\n",
    "    log_entry(f,timestamp)\n",
    "    f.close()\n",
    "    i+=1\n",
    "    time.sleep(sec_between_samples)\n",
    "    \n",
    "\n"
   ]
  }
 ],
 "metadata": {
  "kernelspec": {
   "display_name": "Python 2",
   "language": "python",
   "name": "python2"
  },
  "language_info": {
   "codemirror_mode": {
    "name": "ipython",
    "version": 2
   },
   "file_extension": ".py",
   "mimetype": "text/x-python",
   "name": "python",
   "nbconvert_exporter": "python",
   "pygments_lexer": "ipython2",
   "version": "2.7.10"
  }
 },
 "nbformat": 4,
 "nbformat_minor": 0
}
