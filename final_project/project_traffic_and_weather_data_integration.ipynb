{
 "cells": [
  {
   "cell_type": "code",
   "execution_count": 1,
   "metadata": {
    "collapsed": false
   },
   "outputs": [],
   "source": [
    "%matplotlib inline"
   ]
  },
  {
   "cell_type": "markdown",
   "metadata": {},
   "source": [
    "# Objective\n",
    "\n",
    "The goal of this section of the project is harmonize and integrate traffic and weather data. \n",
    "\n",
    "The resulting integrated dataset will include the following fields:\n",
    "* Camera ID\n",
    "* Speed\n",
    "* Weather status\n",
    "* Timestamp\n",
    "* Time of day (Hour)\n",
    "* Is Daytime\n"
   ]
  },
  {
   "cell_type": "markdown",
   "metadata": {},
   "source": [
    "# Data Integration\n",
    "\n",
    "Now it's time to integrate our datasources. The goal is to combine:\n",
    "\n",
    "* Camera Image features: This is the feature dataset we obtained in the pervious section\n",
    "* Weather: For the time being, we're interested in datapoints that affect ligthing conditions such as: sunrise, sunset, rainfall and cloud cover\n",
    "* Traffic speed data: We will get speed and location name data\n",
    "\n",
    "We will export the combined dataset as CSV for further analysis. As a summary, the following data map illustrates the position of the cameras as well as certain key landmarks that are referenced in the datasources.\n",
    "\n",
    "![](https://raw.githubusercontent.com/rmalarc/is602/master/final_project/data_map.jpg)"
   ]
  },
  {
   "cell_type": "markdown",
   "metadata": {},
   "source": [
    "## The Code"
   ]
  },
  {
   "cell_type": "code",
   "execution_count": 2,
   "metadata": {
    "collapsed": true
   },
   "outputs": [],
   "source": [
    "#from __future__ import print_function\n",
    "\n",
    "#import math\n",
    "#import numpy as np\n",
    "#import matplotlib.pyplot as plt\n",
    "import os\n",
    "import pandas as pd"
   ]
  },
  {
   "cell_type": "markdown",
   "metadata": {},
   "source": [
    "### Traffic Data"
   ]
  },
  {
   "cell_type": "markdown",
   "metadata": {},
   "source": [
    "Let's look at a sample of the previously downloaded traffic data."
   ]
  },
  {
   "cell_type": "code",
   "execution_count": 3,
   "metadata": {
    "collapsed": false
   },
   "outputs": [
    {
     "data": {
      "text/html": [
       "<div>\n",
       "<table border=\"1\" class=\"dataframe\">\n",
       "  <thead>\n",
       "    <tr style=\"text-align: right;\">\n",
       "      <th></th>\n",
       "      <th>Id</th>\n",
       "      <th>TravelTime</th>\n",
       "      <th>Speed</th>\n",
       "      <th>linkName</th>\n",
       "    </tr>\n",
       "  </thead>\n",
       "  <tbody>\n",
       "    <tr>\n",
       "      <th>32</th>\n",
       "      <td>171</td>\n",
       "      <td>255</td>\n",
       "      <td>47.85</td>\n",
       "      <td>Belt Pkwy W JFK Expressway - VWE N Jamaica Ave</td>\n",
       "    </tr>\n",
       "    <tr>\n",
       "      <th>119</th>\n",
       "      <td>422</td>\n",
       "      <td>308</td>\n",
       "      <td>29.20</td>\n",
       "      <td>VWE N MP4.63 (Exit 6 - Jamaica Ave) - MP6.39 (Exit 11 Jewel Ave)</td>\n",
       "    </tr>\n",
       "    <tr>\n",
       "      <th>120</th>\n",
       "      <td>423</td>\n",
       "      <td>98</td>\n",
       "      <td>55.30</td>\n",
       "      <td>VWE N MP6.39 (Exit 11 Jewel Ave) - MP8.65 (Exit 13 Northern Blvd)</td>\n",
       "    </tr>\n",
       "    <tr>\n",
       "      <th>121</th>\n",
       "      <td>424</td>\n",
       "      <td>182</td>\n",
       "      <td>29.83</td>\n",
       "      <td>VWE N MP8.64 (Exit 13 Northern Blvd) - Whitestone Expwy Exit 14 (Linden Pl)</td>\n",
       "    </tr>\n",
       "    <tr>\n",
       "      <th>122</th>\n",
       "      <td>425</td>\n",
       "      <td>242</td>\n",
       "      <td>44.74</td>\n",
       "      <td>VWE S MP2.66 (Exit 2 Rockaway Blvd) - Belt Pkwy E 182nd St</td>\n",
       "    </tr>\n",
       "    <tr>\n",
       "      <th>123</th>\n",
       "      <td>426</td>\n",
       "      <td>121</td>\n",
       "      <td>57.17</td>\n",
       "      <td>VWE S MP4.63 (Exit 6 Jamaica Ave) - MP2.66 (Exit 2 Roackaway Blvd)</td>\n",
       "    </tr>\n",
       "    <tr>\n",
       "      <th>124</th>\n",
       "      <td>427</td>\n",
       "      <td>857</td>\n",
       "      <td>9.94</td>\n",
       "      <td>VWE S MP6.39 (Exit 11 Jewel Ave) - MP4.63 (Exit 6 Jamaica Ave)</td>\n",
       "    </tr>\n",
       "    <tr>\n",
       "      <th>125</th>\n",
       "      <td>428</td>\n",
       "      <td>101</td>\n",
       "      <td>52.82</td>\n",
       "      <td>VWE S MP8.65 (Exit 13 Northern Blvd) - MP6.39 (Exit 11 Jewel Ave)</td>\n",
       "    </tr>\n",
       "    <tr>\n",
       "      <th>146</th>\n",
       "      <td>453</td>\n",
       "      <td>93</td>\n",
       "      <td>55.30</td>\n",
       "      <td>Whitestone Expwy S Exit 14 (Linden Pl) - VWE S MP8.65 (Exit 13 Northern Blvd)</td>\n",
       "    </tr>\n",
       "  </tbody>\n",
       "</table>\n",
       "</div>"
      ],
      "text/plain": [
       "      Id  TravelTime  Speed  \\\n",
       "32   171         255  47.85   \n",
       "119  422         308  29.20   \n",
       "120  423          98  55.30   \n",
       "121  424         182  29.83   \n",
       "122  425         242  44.74   \n",
       "123  426         121  57.17   \n",
       "124  427         857   9.94   \n",
       "125  428         101  52.82   \n",
       "146  453          93  55.30   \n",
       "\n",
       "                                                                          linkName  \n",
       "32                                  Belt Pkwy W JFK Expressway - VWE N Jamaica Ave  \n",
       "119               VWE N MP4.63 (Exit 6 - Jamaica Ave) - MP6.39 (Exit 11 Jewel Ave)  \n",
       "120              VWE N MP6.39 (Exit 11 Jewel Ave) - MP8.65 (Exit 13 Northern Blvd)  \n",
       "121    VWE N MP8.64 (Exit 13 Northern Blvd) - Whitestone Expwy Exit 14 (Linden Pl)  \n",
       "122                     VWE S MP2.66 (Exit 2 Rockaway Blvd) - Belt Pkwy E 182nd St  \n",
       "123             VWE S MP4.63 (Exit 6 Jamaica Ave) - MP2.66 (Exit 2 Roackaway Blvd)  \n",
       "124                 VWE S MP6.39 (Exit 11 Jewel Ave) - MP4.63 (Exit 6 Jamaica Ave)  \n",
       "125              VWE S MP8.65 (Exit 13 Northern Blvd) - MP6.39 (Exit 11 Jewel Ave)  \n",
       "146  Whitestone Expwy S Exit 14 (Linden Pl) - VWE S MP8.65 (Exit 13 Northern Blvd)  "
      ]
     },
     "execution_count": 3,
     "metadata": {},
     "output_type": "execute_result"
    }
   ],
   "source": [
    "traffic_data = pd.DataFrame().from_csv(\"camera_data/1447258654_speed_data.txt\",sep=\"\\t\", index_col=False)\n",
    "pd.options.display.max_colwidth =1000\n",
    "traffic_data[['Id','TravelTime','Speed','linkName']].loc[traffic_data['linkName'].str.contains(\"VWE\")]"
   ]
  },
  {
   "cell_type": "markdown",
   "metadata": {},
   "source": [
    "As we can see above, there is traffic data available for multiple locations along the Van Wyck Expressway. Let's create a mapping table to keep the camera_id  to location_id \n"
   ]
  },
  {
   "cell_type": "code",
   "execution_count": 4,
   "metadata": {
    "collapsed": false
   },
   "outputs": [
    {
     "data": {
      "text/html": [
       "<div>\n",
       "<table border=\"1\" class=\"dataframe\">\n",
       "  <thead>\n",
       "    <tr style=\"text-align: right;\">\n",
       "      <th></th>\n",
       "      <th>camera_id</th>\n",
       "      <th>location_id</th>\n",
       "    </tr>\n",
       "  </thead>\n",
       "  <tbody>\n",
       "    <tr>\n",
       "      <th>0</th>\n",
       "      <td>594</td>\n",
       "      <td>427</td>\n",
       "    </tr>\n",
       "    <tr>\n",
       "      <th>1</th>\n",
       "      <td>593</td>\n",
       "      <td>422</td>\n",
       "    </tr>\n",
       "    <tr>\n",
       "      <th>2</th>\n",
       "      <td>592</td>\n",
       "      <td>426</td>\n",
       "    </tr>\n",
       "    <tr>\n",
       "      <th>3</th>\n",
       "      <td>589</td>\n",
       "      <td>426</td>\n",
       "    </tr>\n",
       "    <tr>\n",
       "      <th>4</th>\n",
       "      <td>590</td>\n",
       "      <td>171</td>\n",
       "    </tr>\n",
       "  </tbody>\n",
       "</table>\n",
       "</div>"
      ],
      "text/plain": [
       "  camera_id location_id\n",
       "0       594         427\n",
       "1       593         422\n",
       "2       592         426\n",
       "3       589         426\n",
       "4       590         171"
      ]
     },
     "execution_count": 4,
     "metadata": {},
     "output_type": "execute_result"
    }
   ],
   "source": [
    "location_to_camera_mapping = pd.DataFrame({'location_id':['427','422','426','426','171']\n",
    "                                               ,'camera_id':['594','593','592','589','590']})\n",
    "location_to_camera_mapping"
   ]
  },
  {
   "cell_type": "markdown",
   "metadata": {},
   "source": [
    "With this mapping table, let's load all traffic data for the locations of interest into a dataframe:"
   ]
  },
  {
   "cell_type": "code",
   "execution_count": 5,
   "metadata": {
    "collapsed": false,
    "scrolled": true
   },
   "outputs": [
    {
     "data": {
      "text/html": [
       "<div>\n",
       "<table border=\"1\" class=\"dataframe\">\n",
       "  <thead>\n",
       "    <tr style=\"text-align: right;\">\n",
       "      <th></th>\n",
       "      <th>location_id</th>\n",
       "      <th>travel_time</th>\n",
       "      <th>speed</th>\n",
       "      <th>location_name</th>\n",
       "      <th>camera_id</th>\n",
       "      <th>speed_data_filename</th>\n",
       "      <th>timestamp</th>\n",
       "    </tr>\n",
       "  </thead>\n",
       "  <tbody>\n",
       "    <tr>\n",
       "      <th>0</th>\n",
       "      <td>171</td>\n",
       "      <td>255</td>\n",
       "      <td>47.85</td>\n",
       "      <td>Belt Pkwy W JFK Expressway - VWE N Jamaica Ave</td>\n",
       "      <td>590</td>\n",
       "      <td>1447258654_speed_data.txt</td>\n",
       "      <td>1447258654</td>\n",
       "    </tr>\n",
       "    <tr>\n",
       "      <th>1</th>\n",
       "      <td>422</td>\n",
       "      <td>308</td>\n",
       "      <td>29.20</td>\n",
       "      <td>VWE N MP4.63 (Exit 6 - Jamaica Ave) - MP6.39 (Exit 11 Jewel Ave)</td>\n",
       "      <td>593</td>\n",
       "      <td>1447258654_speed_data.txt</td>\n",
       "      <td>1447258654</td>\n",
       "    </tr>\n",
       "    <tr>\n",
       "      <th>2</th>\n",
       "      <td>426</td>\n",
       "      <td>121</td>\n",
       "      <td>57.17</td>\n",
       "      <td>VWE S MP4.63 (Exit 6 Jamaica Ave) - MP2.66 (Exit 2 Roackaway Blvd)</td>\n",
       "      <td>592</td>\n",
       "      <td>1447258654_speed_data.txt</td>\n",
       "      <td>1447258654</td>\n",
       "    </tr>\n",
       "    <tr>\n",
       "      <th>3</th>\n",
       "      <td>426</td>\n",
       "      <td>121</td>\n",
       "      <td>57.17</td>\n",
       "      <td>VWE S MP4.63 (Exit 6 Jamaica Ave) - MP2.66 (Exit 2 Roackaway Blvd)</td>\n",
       "      <td>589</td>\n",
       "      <td>1447258654_speed_data.txt</td>\n",
       "      <td>1447258654</td>\n",
       "    </tr>\n",
       "    <tr>\n",
       "      <th>4</th>\n",
       "      <td>427</td>\n",
       "      <td>857</td>\n",
       "      <td>9.94</td>\n",
       "      <td>VWE S MP6.39 (Exit 11 Jewel Ave) - MP4.63 (Exit 6 Jamaica Ave)</td>\n",
       "      <td>594</td>\n",
       "      <td>1447258654_speed_data.txt</td>\n",
       "      <td>1447258654</td>\n",
       "    </tr>\n",
       "  </tbody>\n",
       "</table>\n",
       "</div>"
      ],
      "text/plain": [
       "  location_id  travel_time  speed  \\\n",
       "0         171          255  47.85   \n",
       "1         422          308  29.20   \n",
       "2         426          121  57.17   \n",
       "3         426          121  57.17   \n",
       "4         427          857   9.94   \n",
       "\n",
       "                                                        location_name  \\\n",
       "0                      Belt Pkwy W JFK Expressway - VWE N Jamaica Ave   \n",
       "1    VWE N MP4.63 (Exit 6 - Jamaica Ave) - MP6.39 (Exit 11 Jewel Ave)   \n",
       "2  VWE S MP4.63 (Exit 6 Jamaica Ave) - MP2.66 (Exit 2 Roackaway Blvd)   \n",
       "3  VWE S MP4.63 (Exit 6 Jamaica Ave) - MP2.66 (Exit 2 Roackaway Blvd)   \n",
       "4      VWE S MP6.39 (Exit 11 Jewel Ave) - MP4.63 (Exit 6 Jamaica Ave)   \n",
       "\n",
       "  camera_id        speed_data_filename   timestamp  \n",
       "0       590  1447258654_speed_data.txt  1447258654  \n",
       "1       593  1447258654_speed_data.txt  1447258654  \n",
       "2       592  1447258654_speed_data.txt  1447258654  \n",
       "3       589  1447258654_speed_data.txt  1447258654  \n",
       "4       594  1447258654_speed_data.txt  1447258654  "
      ]
     },
     "execution_count": 5,
     "metadata": {},
     "output_type": "execute_result"
    }
   ],
   "source": [
    "traffic_df = pd.DataFrame() \n",
    "base_dir = \"./camera_data/\"\n",
    "\n",
    "\n",
    "for filename in os.listdir(base_dir):\n",
    "    if '_speed_data.txt' in filename:\n",
    "        timestamp = filename[:10]\n",
    "\n",
    "        tmp = pd.DataFrame().from_csv(base_dir+filename,sep=\"\\t\", index_col=False)\n",
    "\n",
    "        # clean up the column names and data types\n",
    "        tmp = tmp[['Id','TravelTime','Speed','linkName']]\n",
    "        tmp.columns = ['location_id','travel_time','speed','location_name']\n",
    "        tmp['location_id']=tmp[['location_id']].astype(str)\n",
    "        \n",
    "        # join against location_to_Camera_mapping table\n",
    "        tmp = pd.merge(tmp, location_to_camera_mapping, how='inner', on='location_id')\n",
    "\n",
    "        # set some extra attributes\n",
    "        tmp['speed_data_filename']=filename\n",
    "        tmp['timestamp']=timestamp\n",
    "\n",
    "        traffic_df = traffic_df.append(tmp,ignore_index =True)\n",
    "\n",
    "traffic_df.head()\n"
   ]
  },
  {
   "cell_type": "markdown",
   "metadata": {},
   "source": [
    "## Weather Data\n",
    "\n",
    "Let's take a look at the weather data that we previously downloaded"
   ]
  },
  {
   "cell_type": "code",
   "execution_count": 6,
   "metadata": {
    "collapsed": false
   },
   "outputs": [
    {
     "data": {
      "text/plain": [
       "{u'base': u'cmc stations',\n",
       " u'clouds': {u'all': 92},\n",
       " u'cod': 200,\n",
       " u'coord': {u'lat': 40.7, u'lon': -73.8},\n",
       " u'dt': 1447256262,\n",
       " u'id': 5133268,\n",
       " u'main': {u'grnd_level': 1020.83,\n",
       "  u'humidity': 100,\n",
       "  u'pressure': 1020.83,\n",
       "  u'sea_level': 1024.4,\n",
       "  u'temp': 283.105,\n",
       "  u'temp_max': 283.105,\n",
       "  u'temp_min': 283.105},\n",
       " u'name': u'Queens County',\n",
       " u'rain': {u'3h': 0.3075},\n",
       " u'sys': {u'country': u'US',\n",
       "  u'message': 0.0034,\n",
       "  u'sunrise': 1447241862,\n",
       "  u'sunset': 1447278021},\n",
       " u'weather': [{u'description': u'light rain',\n",
       "   u'icon': u'10d',\n",
       "   u'id': 500,\n",
       "   u'main': u'Rain'}],\n",
       " u'wind': {u'deg': 355.505, u'speed': 4.92}}"
      ]
     },
     "execution_count": 6,
     "metadata": {},
     "output_type": "execute_result"
    }
   ],
   "source": [
    "import json\n",
    "\n",
    "json_data=open(\"camera_data/1447258654_weather_data.json\").read()\n",
    "\n",
    "weather_data = json.loads(json_data)\n",
    "weather_data"
   ]
  },
  {
   "cell_type": "markdown",
   "metadata": {},
   "source": [
    "From the above json, we're interested in any attributes that affect the visual appereance:\n",
    "* weather summary\n",
    "* sunrise\n",
    "* sunset\n",
    "\n",
    "In addition, we will define the following attributes:\n",
    "* is_day: Flag that indicates if it's broad daylight based on the sunrise, sunset and current time.\n",
    "* hour: Hour of day"
   ]
  },
  {
   "cell_type": "code",
   "execution_count": 7,
   "metadata": {
    "collapsed": false
   },
   "outputs": [
    {
     "name": "stdout",
     "output_type": "stream",
     "text": [
      "(u'Rain', 1447241862, 1447278021)\n"
     ]
    }
   ],
   "source": [
    "print (weather_data['weather'][0]['main']\n",
    "      ,weather_data['sys']['sunrise']\n",
    "      ,weather_data['sys']['sunset'])"
   ]
  },
  {
   "cell_type": "markdown",
   "metadata": {},
   "source": [
    "Let's now load all the weather data into a dataframe"
   ]
  },
  {
   "cell_type": "code",
   "execution_count": 8,
   "metadata": {
    "collapsed": false
   },
   "outputs": [
    {
     "data": {
      "text/html": [
       "<div>\n",
       "<table border=\"1\" class=\"dataframe\">\n",
       "  <thead>\n",
       "    <tr style=\"text-align: right;\">\n",
       "      <th></th>\n",
       "      <th>hour</th>\n",
       "      <th>is_daytime</th>\n",
       "      <th>timestamp</th>\n",
       "      <th>weather_data_filename</th>\n",
       "      <th>weather_description</th>\n",
       "    </tr>\n",
       "  </thead>\n",
       "  <tbody>\n",
       "    <tr>\n",
       "      <th>0</th>\n",
       "      <td>11</td>\n",
       "      <td>True</td>\n",
       "      <td>1447258654</td>\n",
       "      <td>1447258654_weather_data.json</td>\n",
       "      <td>Rain</td>\n",
       "    </tr>\n",
       "    <tr>\n",
       "      <th>1</th>\n",
       "      <td>11</td>\n",
       "      <td>True</td>\n",
       "      <td>1447260454</td>\n",
       "      <td>1447260454_weather_data.json</td>\n",
       "      <td>Rain</td>\n",
       "    </tr>\n",
       "    <tr>\n",
       "      <th>2</th>\n",
       "      <td>12</td>\n",
       "      <td>True</td>\n",
       "      <td>1447262255</td>\n",
       "      <td>1447262255_weather_data.json</td>\n",
       "      <td>Clouds</td>\n",
       "    </tr>\n",
       "    <tr>\n",
       "      <th>3</th>\n",
       "      <td>12</td>\n",
       "      <td>True</td>\n",
       "      <td>1447264056</td>\n",
       "      <td>1447264056_weather_data.json</td>\n",
       "      <td>Clouds</td>\n",
       "    </tr>\n",
       "    <tr>\n",
       "      <th>4</th>\n",
       "      <td>13</td>\n",
       "      <td>True</td>\n",
       "      <td>1447265857</td>\n",
       "      <td>1447265857_weather_data.json</td>\n",
       "      <td>Clouds</td>\n",
       "    </tr>\n",
       "  </tbody>\n",
       "</table>\n",
       "</div>"
      ],
      "text/plain": [
       "  hour is_daytime   timestamp         weather_data_filename  \\\n",
       "0   11       True  1447258654  1447258654_weather_data.json   \n",
       "1   11       True  1447260454  1447260454_weather_data.json   \n",
       "2   12       True  1447262255  1447262255_weather_data.json   \n",
       "3   12       True  1447264056  1447264056_weather_data.json   \n",
       "4   13       True  1447265857  1447265857_weather_data.json   \n",
       "\n",
       "  weather_description  \n",
       "0                Rain  \n",
       "1                Rain  \n",
       "2              Clouds  \n",
       "3              Clouds  \n",
       "4              Clouds  "
      ]
     },
     "execution_count": 8,
     "metadata": {},
     "output_type": "execute_result"
    }
   ],
   "source": [
    "import datetime\n",
    "\n",
    "weather_data_df = pd.DataFrame() \n",
    "base_dir = \"./camera_data/\"\n",
    "\n",
    "weather = []\n",
    "\n",
    "for filename in os.listdir(base_dir):\n",
    "    if '_weather_data.json' in filename:\n",
    "        timestamp = filename[:10]\n",
    "\n",
    "        tmp = pd.DataFrame()\n",
    "\n",
    "        json_data=open(base_dir+filename).read()\n",
    "        weather_data = json.loads(json_data)\n",
    "\n",
    "        # Define derived attrobutes\n",
    "        is_daytime =  weather_data['sys']['sunrise'] < int(timestamp) <weather_data['sys']['sunset']\n",
    "        timestamp_dt = datetime.datetime.fromtimestamp(int(timestamp))\n",
    "        hour = timestamp_dt.strftime('%H')\n",
    "        \n",
    "        weather.append({\n",
    "                        \"weather_description\" : weather_data['weather'][0]['main'],\n",
    "                        \"is_daytime\" : is_daytime,\n",
    "                        \"hour\" : hour,\n",
    "                        \"weather_data_filename\":filename,\n",
    "                        \"timestamp\":timestamp\n",
    "         })\n",
    "\n",
    "weather_df = pd.DataFrame(weather)\n",
    "\n",
    "weather_df.head()\n"
   ]
  },
  {
   "cell_type": "markdown",
   "metadata": {},
   "source": [
    "# Merging Traffic and Weather Data"
   ]
  },
  {
   "cell_type": "code",
   "execution_count": 9,
   "metadata": {
    "collapsed": false
   },
   "outputs": [],
   "source": [
    "traffic_and_weather_df = pd.merge(traffic_df, weather_df, how='inner', on='timestamp')\n"
   ]
  },
  {
   "cell_type": "code",
   "execution_count": 10,
   "metadata": {
    "collapsed": false
   },
   "outputs": [
    {
     "data": {
      "text/html": [
       "<div>\n",
       "<table border=\"1\" class=\"dataframe\">\n",
       "  <thead>\n",
       "    <tr style=\"text-align: right;\">\n",
       "      <th></th>\n",
       "      <th>location_id</th>\n",
       "      <th>travel_time</th>\n",
       "      <th>speed</th>\n",
       "      <th>location_name</th>\n",
       "      <th>camera_id</th>\n",
       "      <th>speed_data_filename</th>\n",
       "      <th>timestamp</th>\n",
       "      <th>hour</th>\n",
       "      <th>is_daytime</th>\n",
       "      <th>weather_data_filename</th>\n",
       "      <th>weather_description</th>\n",
       "    </tr>\n",
       "  </thead>\n",
       "  <tbody>\n",
       "    <tr>\n",
       "      <th>0</th>\n",
       "      <td>171</td>\n",
       "      <td>255</td>\n",
       "      <td>47.85</td>\n",
       "      <td>Belt Pkwy W JFK Expressway - VWE N Jamaica Ave</td>\n",
       "      <td>590</td>\n",
       "      <td>1447258654_speed_data.txt</td>\n",
       "      <td>1447258654</td>\n",
       "      <td>11</td>\n",
       "      <td>True</td>\n",
       "      <td>1447258654_weather_data.json</td>\n",
       "      <td>Rain</td>\n",
       "    </tr>\n",
       "    <tr>\n",
       "      <th>1</th>\n",
       "      <td>422</td>\n",
       "      <td>308</td>\n",
       "      <td>29.20</td>\n",
       "      <td>VWE N MP4.63 (Exit 6 - Jamaica Ave) - MP6.39 (Exit 11 Jewel Ave)</td>\n",
       "      <td>593</td>\n",
       "      <td>1447258654_speed_data.txt</td>\n",
       "      <td>1447258654</td>\n",
       "      <td>11</td>\n",
       "      <td>True</td>\n",
       "      <td>1447258654_weather_data.json</td>\n",
       "      <td>Rain</td>\n",
       "    </tr>\n",
       "    <tr>\n",
       "      <th>2</th>\n",
       "      <td>426</td>\n",
       "      <td>121</td>\n",
       "      <td>57.17</td>\n",
       "      <td>VWE S MP4.63 (Exit 6 Jamaica Ave) - MP2.66 (Exit 2 Roackaway Blvd)</td>\n",
       "      <td>592</td>\n",
       "      <td>1447258654_speed_data.txt</td>\n",
       "      <td>1447258654</td>\n",
       "      <td>11</td>\n",
       "      <td>True</td>\n",
       "      <td>1447258654_weather_data.json</td>\n",
       "      <td>Rain</td>\n",
       "    </tr>\n",
       "    <tr>\n",
       "      <th>3</th>\n",
       "      <td>426</td>\n",
       "      <td>121</td>\n",
       "      <td>57.17</td>\n",
       "      <td>VWE S MP4.63 (Exit 6 Jamaica Ave) - MP2.66 (Exit 2 Roackaway Blvd)</td>\n",
       "      <td>589</td>\n",
       "      <td>1447258654_speed_data.txt</td>\n",
       "      <td>1447258654</td>\n",
       "      <td>11</td>\n",
       "      <td>True</td>\n",
       "      <td>1447258654_weather_data.json</td>\n",
       "      <td>Rain</td>\n",
       "    </tr>\n",
       "    <tr>\n",
       "      <th>4</th>\n",
       "      <td>427</td>\n",
       "      <td>857</td>\n",
       "      <td>9.94</td>\n",
       "      <td>VWE S MP6.39 (Exit 11 Jewel Ave) - MP4.63 (Exit 6 Jamaica Ave)</td>\n",
       "      <td>594</td>\n",
       "      <td>1447258654_speed_data.txt</td>\n",
       "      <td>1447258654</td>\n",
       "      <td>11</td>\n",
       "      <td>True</td>\n",
       "      <td>1447258654_weather_data.json</td>\n",
       "      <td>Rain</td>\n",
       "    </tr>\n",
       "  </tbody>\n",
       "</table>\n",
       "</div>"
      ],
      "text/plain": [
       "  location_id  travel_time  speed  \\\n",
       "0         171          255  47.85   \n",
       "1         422          308  29.20   \n",
       "2         426          121  57.17   \n",
       "3         426          121  57.17   \n",
       "4         427          857   9.94   \n",
       "\n",
       "                                                        location_name  \\\n",
       "0                      Belt Pkwy W JFK Expressway - VWE N Jamaica Ave   \n",
       "1    VWE N MP4.63 (Exit 6 - Jamaica Ave) - MP6.39 (Exit 11 Jewel Ave)   \n",
       "2  VWE S MP4.63 (Exit 6 Jamaica Ave) - MP2.66 (Exit 2 Roackaway Blvd)   \n",
       "3  VWE S MP4.63 (Exit 6 Jamaica Ave) - MP2.66 (Exit 2 Roackaway Blvd)   \n",
       "4      VWE S MP6.39 (Exit 11 Jewel Ave) - MP4.63 (Exit 6 Jamaica Ave)   \n",
       "\n",
       "  camera_id        speed_data_filename   timestamp hour is_daytime  \\\n",
       "0       590  1447258654_speed_data.txt  1447258654   11       True   \n",
       "1       593  1447258654_speed_data.txt  1447258654   11       True   \n",
       "2       592  1447258654_speed_data.txt  1447258654   11       True   \n",
       "3       589  1447258654_speed_data.txt  1447258654   11       True   \n",
       "4       594  1447258654_speed_data.txt  1447258654   11       True   \n",
       "\n",
       "          weather_data_filename weather_description  \n",
       "0  1447258654_weather_data.json                Rain  \n",
       "1  1447258654_weather_data.json                Rain  \n",
       "2  1447258654_weather_data.json                Rain  \n",
       "3  1447258654_weather_data.json                Rain  \n",
       "4  1447258654_weather_data.json                Rain  "
      ]
     },
     "execution_count": 10,
     "metadata": {},
     "output_type": "execute_result"
    }
   ],
   "source": [
    "traffic_and_weather_df.head()"
   ]
  },
  {
   "cell_type": "markdown",
   "metadata": {},
   "source": [
    "Now, let's export to CSV."
   ]
  },
  {
   "cell_type": "code",
   "execution_count": 11,
   "metadata": {
    "collapsed": true
   },
   "outputs": [],
   "source": [
    "traffic_and_weather_df.to_csv(\"traffic_and_weather_df.csv\")"
   ]
  }
 ],
 "metadata": {
  "kernelspec": {
   "display_name": "Python 2",
   "language": "python",
   "name": "python2"
  },
  "language_info": {
   "codemirror_mode": {
    "name": "ipython",
    "version": 2
   },
   "file_extension": ".py",
   "mimetype": "text/x-python",
   "name": "python",
   "nbconvert_exporter": "python",
   "pygments_lexer": "ipython2",
   "version": "2.7.10"
  }
 },
 "nbformat": 4,
 "nbformat_minor": 0
}
