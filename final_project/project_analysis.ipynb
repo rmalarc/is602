{
 "cells": [
  {
   "cell_type": "code",
   "execution_count": 1,
   "metadata": {
    "collapsed": false
   },
   "outputs": [],
   "source": [
    "%matplotlib inline"
   ]
  },
  {
   "cell_type": "markdown",
   "metadata": {},
   "source": [
    "# Objective\n",
    "\n",
    "The goal of this final section is to analyze the captured traffic data along the Van Wyck Expressway. \n",
    "\n",
    "We seek to know if it is possible to build a model that estimates traffic speed based on traffic camera images.\n"
   ]
  },
  {
   "cell_type": "markdown",
   "metadata": {},
   "source": [
    "## Data Partitioning\n",
    "\n",
    "Before we do the analysis, we will partition the data in order to account for a variety of lighting conditions.\n",
    "\n",
    "Let's define the following partitions\n",
    "\n",
    "* Nigthtime: By Camera ID and Weather Description\n",
    "* Daytime - Non Clear Sky: By Camera ID and Weather Description\n",
    "* Daytime - Clear Sky: By Hour of Day, Camera ID and Weather Description\n",
    "\n",
    "Once we define our partitions, we will select a test partition and do a regression.\n"
   ]
  },
  {
   "cell_type": "markdown",
   "metadata": {},
   "source": [
    "## Data Loading and Partitioning"
   ]
  },
  {
   "cell_type": "code",
   "execution_count": 2,
   "metadata": {
    "collapsed": true
   },
   "outputs": [],
   "source": [
    "import os\n",
    "import pandas as pd\n",
    "\n",
    "camera_data = pd.DataFrame().from_csv(\"camera_features.csv\")\n",
    "traffic_weather_data = pd.DataFrame().from_csv(\"traffic_and_weather_df.csv\")\n"
   ]
  },
  {
   "cell_type": "code",
   "execution_count": 3,
   "metadata": {
    "collapsed": false
   },
   "outputs": [],
   "source": [
    "project_data = pd.merge(camera_data, traffic_weather_data, how='inner', on=['camera_id','timestamp'])\n",
    "project_data['hour'] = project_data['hour'].astype(str)\n",
    "project_data['camera_id'] = project_data['camera_id'].astype(str)\n",
    "project_data['timestamp'] = project_data['timestamp'].astype(str)\n",
    "project_data['location_id'] = project_data['location_id'].astype(str)"
   ]
  },
  {
   "cell_type": "code",
   "execution_count": 4,
   "metadata": {
    "collapsed": false
   },
   "outputs": [
    {
     "data": {
      "text/html": [
       "<div>\n",
       "<table border=\"1\" class=\"dataframe\">\n",
       "  <thead>\n",
       "    <tr style=\"text-align: right;\">\n",
       "      <th></th>\n",
       "      <th>camera_id</th>\n",
       "      <th>filename</th>\n",
       "      <th>image_object_ct</th>\n",
       "      <th>image_object_ct_c</th>\n",
       "      <th>image_object_ct_l</th>\n",
       "      <th>image_object_ct_lr</th>\n",
       "      <th>image_object_ct_r</th>\n",
       "      <th>image_std</th>\n",
       "      <th>timestamp</th>\n",
       "      <th>location_id</th>\n",
       "      <th>travel_time</th>\n",
       "      <th>speed</th>\n",
       "      <th>location_name</th>\n",
       "      <th>speed_data_filename</th>\n",
       "      <th>hour</th>\n",
       "      <th>is_daytime</th>\n",
       "      <th>weather_data_filename</th>\n",
       "      <th>weather_description</th>\n",
       "    </tr>\n",
       "  </thead>\n",
       "  <tbody>\n",
       "    <tr>\n",
       "      <th>0</th>\n",
       "      <td>589</td>\n",
       "      <td>1447258654_cctv589.jpg</td>\n",
       "      <td>7</td>\n",
       "      <td>10</td>\n",
       "      <td>10</td>\n",
       "      <td>24</td>\n",
       "      <td>17</td>\n",
       "      <td>0.086155</td>\n",
       "      <td>1447258654</td>\n",
       "      <td>426</td>\n",
       "      <td>121</td>\n",
       "      <td>57.17</td>\n",
       "      <td>VWE S MP4.63 (Exit 6 Jamaica Ave) - MP2.66 (Ex...</td>\n",
       "      <td>1447258654_speed_data.txt</td>\n",
       "      <td>11</td>\n",
       "      <td>True</td>\n",
       "      <td>1447258654_weather_data.json</td>\n",
       "      <td>Rain</td>\n",
       "    </tr>\n",
       "    <tr>\n",
       "      <th>1</th>\n",
       "      <td>594</td>\n",
       "      <td>1447258654_cctv594.jpg</td>\n",
       "      <td>5</td>\n",
       "      <td>12</td>\n",
       "      <td>12</td>\n",
       "      <td>13</td>\n",
       "      <td>6</td>\n",
       "      <td>0.050327</td>\n",
       "      <td>1447258654</td>\n",
       "      <td>427</td>\n",
       "      <td>857</td>\n",
       "      <td>9.94</td>\n",
       "      <td>VWE S MP6.39 (Exit 11 Jewel Ave) - MP4.63 (Exi...</td>\n",
       "      <td>1447258654_speed_data.txt</td>\n",
       "      <td>11</td>\n",
       "      <td>True</td>\n",
       "      <td>1447258654_weather_data.json</td>\n",
       "      <td>Rain</td>\n",
       "    </tr>\n",
       "    <tr>\n",
       "      <th>2</th>\n",
       "      <td>589</td>\n",
       "      <td>1447260454_cctv589.jpg</td>\n",
       "      <td>11</td>\n",
       "      <td>9</td>\n",
       "      <td>9</td>\n",
       "      <td>28</td>\n",
       "      <td>17</td>\n",
       "      <td>0.084551</td>\n",
       "      <td>1447260454</td>\n",
       "      <td>426</td>\n",
       "      <td>120</td>\n",
       "      <td>57.17</td>\n",
       "      <td>VWE S MP4.63 (Exit 6 Jamaica Ave) - MP2.66 (Ex...</td>\n",
       "      <td>1447260454_speed_data.txt</td>\n",
       "      <td>11</td>\n",
       "      <td>True</td>\n",
       "      <td>1447260454_weather_data.json</td>\n",
       "      <td>Rain</td>\n",
       "    </tr>\n",
       "    <tr>\n",
       "      <th>3</th>\n",
       "      <td>594</td>\n",
       "      <td>1447260454_cctv594.jpg</td>\n",
       "      <td>5</td>\n",
       "      <td>20</td>\n",
       "      <td>20</td>\n",
       "      <td>17</td>\n",
       "      <td>9</td>\n",
       "      <td>0.054599</td>\n",
       "      <td>1447260454</td>\n",
       "      <td>427</td>\n",
       "      <td>867</td>\n",
       "      <td>9.94</td>\n",
       "      <td>VWE S MP6.39 (Exit 11 Jewel Ave) - MP4.63 (Exi...</td>\n",
       "      <td>1447260454_speed_data.txt</td>\n",
       "      <td>11</td>\n",
       "      <td>True</td>\n",
       "      <td>1447260454_weather_data.json</td>\n",
       "      <td>Rain</td>\n",
       "    </tr>\n",
       "    <tr>\n",
       "      <th>4</th>\n",
       "      <td>594</td>\n",
       "      <td>1447262255_cctv594.jpg</td>\n",
       "      <td>5</td>\n",
       "      <td>29</td>\n",
       "      <td>29</td>\n",
       "      <td>27</td>\n",
       "      <td>7</td>\n",
       "      <td>0.054990</td>\n",
       "      <td>1447262255</td>\n",
       "      <td>427</td>\n",
       "      <td>829</td>\n",
       "      <td>9.94</td>\n",
       "      <td>VWE S MP6.39 (Exit 11 Jewel Ave) - MP4.63 (Exi...</td>\n",
       "      <td>1447262255_speed_data.txt</td>\n",
       "      <td>12</td>\n",
       "      <td>True</td>\n",
       "      <td>1447262255_weather_data.json</td>\n",
       "      <td>Clouds</td>\n",
       "    </tr>\n",
       "  </tbody>\n",
       "</table>\n",
       "</div>"
      ],
      "text/plain": [
       "  camera_id                filename  image_object_ct  image_object_ct_c  \\\n",
       "0       589  1447258654_cctv589.jpg                7                 10   \n",
       "1       594  1447258654_cctv594.jpg                5                 12   \n",
       "2       589  1447260454_cctv589.jpg               11                  9   \n",
       "3       594  1447260454_cctv594.jpg                5                 20   \n",
       "4       594  1447262255_cctv594.jpg                5                 29   \n",
       "\n",
       "   image_object_ct_l  image_object_ct_lr  image_object_ct_r  image_std  \\\n",
       "0                 10                  24                 17   0.086155   \n",
       "1                 12                  13                  6   0.050327   \n",
       "2                  9                  28                 17   0.084551   \n",
       "3                 20                  17                  9   0.054599   \n",
       "4                 29                  27                  7   0.054990   \n",
       "\n",
       "    timestamp location_id  travel_time  speed  \\\n",
       "0  1447258654         426          121  57.17   \n",
       "1  1447258654         427          857   9.94   \n",
       "2  1447260454         426          120  57.17   \n",
       "3  1447260454         427          867   9.94   \n",
       "4  1447262255         427          829   9.94   \n",
       "\n",
       "                                       location_name  \\\n",
       "0  VWE S MP4.63 (Exit 6 Jamaica Ave) - MP2.66 (Ex...   \n",
       "1  VWE S MP6.39 (Exit 11 Jewel Ave) - MP4.63 (Exi...   \n",
       "2  VWE S MP4.63 (Exit 6 Jamaica Ave) - MP2.66 (Ex...   \n",
       "3  VWE S MP6.39 (Exit 11 Jewel Ave) - MP4.63 (Exi...   \n",
       "4  VWE S MP6.39 (Exit 11 Jewel Ave) - MP4.63 (Exi...   \n",
       "\n",
       "         speed_data_filename hour is_daytime         weather_data_filename  \\\n",
       "0  1447258654_speed_data.txt   11       True  1447258654_weather_data.json   \n",
       "1  1447258654_speed_data.txt   11       True  1447258654_weather_data.json   \n",
       "2  1447260454_speed_data.txt   11       True  1447260454_weather_data.json   \n",
       "3  1447260454_speed_data.txt   11       True  1447260454_weather_data.json   \n",
       "4  1447262255_speed_data.txt   12       True  1447262255_weather_data.json   \n",
       "\n",
       "  weather_description  \n",
       "0                Rain  \n",
       "1                Rain  \n",
       "2                Rain  \n",
       "3                Rain  \n",
       "4              Clouds  "
      ]
     },
     "execution_count": 4,
     "metadata": {},
     "output_type": "execute_result"
    }
   ],
   "source": [
    "project_data.head()"
   ]
  },
  {
   "cell_type": "code",
   "execution_count": 5,
   "metadata": {
    "collapsed": false
   },
   "outputs": [
    {
     "data": {
      "text/html": [
       "<div>\n",
       "<table border=\"1\" class=\"dataframe\">\n",
       "  <thead>\n",
       "    <tr style=\"text-align: right;\">\n",
       "      <th></th>\n",
       "      <th>image_object_ct</th>\n",
       "      <th>image_object_ct_c</th>\n",
       "      <th>image_object_ct_l</th>\n",
       "      <th>image_object_ct_lr</th>\n",
       "      <th>image_object_ct_r</th>\n",
       "      <th>image_std</th>\n",
       "      <th>travel_time</th>\n",
       "      <th>speed</th>\n",
       "      <th>is_daytime</th>\n",
       "    </tr>\n",
       "  </thead>\n",
       "  <tbody>\n",
       "    <tr>\n",
       "      <th>count</th>\n",
       "      <td>969.000000</td>\n",
       "      <td>969.000000</td>\n",
       "      <td>969.000000</td>\n",
       "      <td>969.000000</td>\n",
       "      <td>969.000000</td>\n",
       "      <td>967.000000</td>\n",
       "      <td>969.000000</td>\n",
       "      <td>969.000000</td>\n",
       "      <td>969</td>\n",
       "    </tr>\n",
       "    <tr>\n",
       "      <th>mean</th>\n",
       "      <td>13.372549</td>\n",
       "      <td>15.506708</td>\n",
       "      <td>15.506708</td>\n",
       "      <td>28.116615</td>\n",
       "      <td>17.525284</td>\n",
       "      <td>0.145679</td>\n",
       "      <td>356.613003</td>\n",
       "      <td>38.805418</td>\n",
       "      <td>0.435501</td>\n",
       "    </tr>\n",
       "    <tr>\n",
       "      <th>std</th>\n",
       "      <td>9.887305</td>\n",
       "      <td>10.535174</td>\n",
       "      <td>10.535174</td>\n",
       "      <td>14.601944</td>\n",
       "      <td>9.243360</td>\n",
       "      <td>0.056417</td>\n",
       "      <td>408.414845</td>\n",
       "      <td>16.878783</td>\n",
       "      <td>0.496078</td>\n",
       "    </tr>\n",
       "    <tr>\n",
       "      <th>min</th>\n",
       "      <td>1.000000</td>\n",
       "      <td>1.000000</td>\n",
       "      <td>1.000000</td>\n",
       "      <td>1.000000</td>\n",
       "      <td>1.000000</td>\n",
       "      <td>0.017405</td>\n",
       "      <td>81.000000</td>\n",
       "      <td>3.730000</td>\n",
       "      <td>False</td>\n",
       "    </tr>\n",
       "    <tr>\n",
       "      <th>25%</th>\n",
       "      <td>6.000000</td>\n",
       "      <td>8.000000</td>\n",
       "      <td>8.000000</td>\n",
       "      <td>18.000000</td>\n",
       "      <td>11.000000</td>\n",
       "      <td>0.104464</td>\n",
       "      <td>134.000000</td>\n",
       "      <td>26.100000</td>\n",
       "      <td>0</td>\n",
       "    </tr>\n",
       "    <tr>\n",
       "      <th>50%</th>\n",
       "      <td>10.000000</td>\n",
       "      <td>12.000000</td>\n",
       "      <td>12.000000</td>\n",
       "      <td>24.000000</td>\n",
       "      <td>15.000000</td>\n",
       "      <td>0.137390</td>\n",
       "      <td>213.000000</td>\n",
       "      <td>44.740000</td>\n",
       "      <td>0</td>\n",
       "    </tr>\n",
       "    <tr>\n",
       "      <th>75%</th>\n",
       "      <td>18.000000</td>\n",
       "      <td>21.000000</td>\n",
       "      <td>21.000000</td>\n",
       "      <td>35.000000</td>\n",
       "      <td>21.000000</td>\n",
       "      <td>0.178892</td>\n",
       "      <td>300.000000</td>\n",
       "      <td>52.200000</td>\n",
       "      <td>1</td>\n",
       "    </tr>\n",
       "    <tr>\n",
       "      <th>max</th>\n",
       "      <td>68.000000</td>\n",
       "      <td>65.000000</td>\n",
       "      <td>65.000000</td>\n",
       "      <td>85.000000</td>\n",
       "      <td>70.000000</td>\n",
       "      <td>0.338472</td>\n",
       "      <td>2482.000000</td>\n",
       "      <td>62.760000</td>\n",
       "      <td>True</td>\n",
       "    </tr>\n",
       "  </tbody>\n",
       "</table>\n",
       "</div>"
      ],
      "text/plain": [
       "       image_object_ct  image_object_ct_c  image_object_ct_l  \\\n",
       "count       969.000000         969.000000         969.000000   \n",
       "mean         13.372549          15.506708          15.506708   \n",
       "std           9.887305          10.535174          10.535174   \n",
       "min           1.000000           1.000000           1.000000   \n",
       "25%           6.000000           8.000000           8.000000   \n",
       "50%          10.000000          12.000000          12.000000   \n",
       "75%          18.000000          21.000000          21.000000   \n",
       "max          68.000000          65.000000          65.000000   \n",
       "\n",
       "       image_object_ct_lr  image_object_ct_r   image_std  travel_time  \\\n",
       "count          969.000000         969.000000  967.000000   969.000000   \n",
       "mean            28.116615          17.525284    0.145679   356.613003   \n",
       "std             14.601944           9.243360    0.056417   408.414845   \n",
       "min              1.000000           1.000000    0.017405    81.000000   \n",
       "25%             18.000000          11.000000    0.104464   134.000000   \n",
       "50%             24.000000          15.000000    0.137390   213.000000   \n",
       "75%             35.000000          21.000000    0.178892   300.000000   \n",
       "max             85.000000          70.000000    0.338472  2482.000000   \n",
       "\n",
       "            speed is_daytime  \n",
       "count  969.000000        969  \n",
       "mean    38.805418   0.435501  \n",
       "std     16.878783   0.496078  \n",
       "min      3.730000      False  \n",
       "25%     26.100000          0  \n",
       "50%     44.740000          0  \n",
       "75%     52.200000          1  \n",
       "max     62.760000       True  "
      ]
     },
     "execution_count": 5,
     "metadata": {},
     "output_type": "execute_result"
    }
   ],
   "source": [
    "project_data.describe()"
   ]
  },
  {
   "cell_type": "code",
   "execution_count": 6,
   "metadata": {
    "collapsed": false
   },
   "outputs": [
    {
     "data": {
      "text/html": [
       "<div>\n",
       "<table border=\"1\" class=\"dataframe\">\n",
       "  <thead>\n",
       "    <tr style=\"text-align: right;\">\n",
       "      <th></th>\n",
       "      <th>camera_id</th>\n",
       "      <th>filename</th>\n",
       "      <th>image_object_ct</th>\n",
       "      <th>image_object_ct_c</th>\n",
       "      <th>image_object_ct_l</th>\n",
       "      <th>image_object_ct_lr</th>\n",
       "      <th>image_object_ct_r</th>\n",
       "      <th>image_std</th>\n",
       "      <th>timestamp</th>\n",
       "      <th>location_id</th>\n",
       "      <th>travel_time</th>\n",
       "      <th>speed</th>\n",
       "      <th>location_name</th>\n",
       "      <th>speed_data_filename</th>\n",
       "      <th>hour</th>\n",
       "      <th>is_daytime</th>\n",
       "      <th>weather_data_filename</th>\n",
       "    </tr>\n",
       "    <tr>\n",
       "      <th>weather_description</th>\n",
       "      <th></th>\n",
       "      <th></th>\n",
       "      <th></th>\n",
       "      <th></th>\n",
       "      <th></th>\n",
       "      <th></th>\n",
       "      <th></th>\n",
       "      <th></th>\n",
       "      <th></th>\n",
       "      <th></th>\n",
       "      <th></th>\n",
       "      <th></th>\n",
       "      <th></th>\n",
       "      <th></th>\n",
       "      <th></th>\n",
       "      <th></th>\n",
       "      <th></th>\n",
       "    </tr>\n",
       "  </thead>\n",
       "  <tbody>\n",
       "    <tr>\n",
       "      <th>Clear</th>\n",
       "      <td>749</td>\n",
       "      <td>749</td>\n",
       "      <td>749</td>\n",
       "      <td>749</td>\n",
       "      <td>749</td>\n",
       "      <td>749</td>\n",
       "      <td>749</td>\n",
       "      <td>748</td>\n",
       "      <td>749</td>\n",
       "      <td>749</td>\n",
       "      <td>749</td>\n",
       "      <td>749</td>\n",
       "      <td>749</td>\n",
       "      <td>749</td>\n",
       "      <td>749</td>\n",
       "      <td>749</td>\n",
       "      <td>749</td>\n",
       "    </tr>\n",
       "    <tr>\n",
       "      <th>Clouds</th>\n",
       "      <td>121</td>\n",
       "      <td>121</td>\n",
       "      <td>121</td>\n",
       "      <td>121</td>\n",
       "      <td>121</td>\n",
       "      <td>121</td>\n",
       "      <td>121</td>\n",
       "      <td>120</td>\n",
       "      <td>121</td>\n",
       "      <td>121</td>\n",
       "      <td>121</td>\n",
       "      <td>121</td>\n",
       "      <td>121</td>\n",
       "      <td>121</td>\n",
       "      <td>121</td>\n",
       "      <td>121</td>\n",
       "      <td>121</td>\n",
       "    </tr>\n",
       "    <tr>\n",
       "      <th>Mist</th>\n",
       "      <td>7</td>\n",
       "      <td>7</td>\n",
       "      <td>7</td>\n",
       "      <td>7</td>\n",
       "      <td>7</td>\n",
       "      <td>7</td>\n",
       "      <td>7</td>\n",
       "      <td>7</td>\n",
       "      <td>7</td>\n",
       "      <td>7</td>\n",
       "      <td>7</td>\n",
       "      <td>7</td>\n",
       "      <td>7</td>\n",
       "      <td>7</td>\n",
       "      <td>7</td>\n",
       "      <td>7</td>\n",
       "      <td>7</td>\n",
       "    </tr>\n",
       "    <tr>\n",
       "      <th>Rain</th>\n",
       "      <td>90</td>\n",
       "      <td>90</td>\n",
       "      <td>90</td>\n",
       "      <td>90</td>\n",
       "      <td>90</td>\n",
       "      <td>90</td>\n",
       "      <td>90</td>\n",
       "      <td>90</td>\n",
       "      <td>90</td>\n",
       "      <td>90</td>\n",
       "      <td>90</td>\n",
       "      <td>90</td>\n",
       "      <td>90</td>\n",
       "      <td>90</td>\n",
       "      <td>90</td>\n",
       "      <td>90</td>\n",
       "      <td>90</td>\n",
       "    </tr>\n",
       "    <tr>\n",
       "      <th>Thunderstorm</th>\n",
       "      <td>2</td>\n",
       "      <td>2</td>\n",
       "      <td>2</td>\n",
       "      <td>2</td>\n",
       "      <td>2</td>\n",
       "      <td>2</td>\n",
       "      <td>2</td>\n",
       "      <td>2</td>\n",
       "      <td>2</td>\n",
       "      <td>2</td>\n",
       "      <td>2</td>\n",
       "      <td>2</td>\n",
       "      <td>2</td>\n",
       "      <td>2</td>\n",
       "      <td>2</td>\n",
       "      <td>2</td>\n",
       "      <td>2</td>\n",
       "    </tr>\n",
       "  </tbody>\n",
       "</table>\n",
       "</div>"
      ],
      "text/plain": [
       "                     camera_id  filename  image_object_ct  image_object_ct_c  \\\n",
       "weather_description                                                            \n",
       "Clear                      749       749              749                749   \n",
       "Clouds                     121       121              121                121   \n",
       "Mist                         7         7                7                  7   \n",
       "Rain                        90        90               90                 90   \n",
       "Thunderstorm                 2         2                2                  2   \n",
       "\n",
       "                     image_object_ct_l  image_object_ct_lr  image_object_ct_r  \\\n",
       "weather_description                                                             \n",
       "Clear                              749                 749                749   \n",
       "Clouds                             121                 121                121   \n",
       "Mist                                 7                   7                  7   \n",
       "Rain                                90                  90                 90   \n",
       "Thunderstorm                         2                   2                  2   \n",
       "\n",
       "                     image_std  timestamp  location_id  travel_time  speed  \\\n",
       "weather_description                                                          \n",
       "Clear                      748        749          749          749    749   \n",
       "Clouds                     120        121          121          121    121   \n",
       "Mist                         7          7            7            7      7   \n",
       "Rain                        90         90           90           90     90   \n",
       "Thunderstorm                 2          2            2            2      2   \n",
       "\n",
       "                     location_name  speed_data_filename  hour  is_daytime  \\\n",
       "weather_description                                                         \n",
       "Clear                          749                  749   749         749   \n",
       "Clouds                         121                  121   121         121   \n",
       "Mist                             7                    7     7           7   \n",
       "Rain                            90                   90    90          90   \n",
       "Thunderstorm                     2                    2     2           2   \n",
       "\n",
       "                     weather_data_filename  \n",
       "weather_description                         \n",
       "Clear                                  749  \n",
       "Clouds                                 121  \n",
       "Mist                                     7  \n",
       "Rain                                    90  \n",
       "Thunderstorm                             2  "
      ]
     },
     "execution_count": 6,
     "metadata": {},
     "output_type": "execute_result"
    }
   ],
   "source": [
    "project_data.groupby('weather_description').count()\n"
   ]
  },
  {
   "cell_type": "markdown",
   "metadata": {},
   "source": [
    "Let's now define the partitions."
   ]
  },
  {
   "cell_type": "code",
   "execution_count": 7,
   "metadata": {
    "collapsed": false
   },
   "outputs": [
    {
     "data": {
      "text/html": [
       "<div>\n",
       "<table border=\"1\" class=\"dataframe\">\n",
       "  <thead>\n",
       "    <tr style=\"text-align: right;\">\n",
       "      <th></th>\n",
       "      <th>camera_id</th>\n",
       "      <th>filename</th>\n",
       "      <th>image_object_ct</th>\n",
       "      <th>image_object_ct_c</th>\n",
       "      <th>image_object_ct_l</th>\n",
       "      <th>image_object_ct_lr</th>\n",
       "      <th>image_object_ct_r</th>\n",
       "      <th>image_std</th>\n",
       "      <th>timestamp</th>\n",
       "      <th>location_id</th>\n",
       "      <th>travel_time</th>\n",
       "      <th>speed</th>\n",
       "      <th>location_name</th>\n",
       "      <th>speed_data_filename</th>\n",
       "      <th>hour</th>\n",
       "      <th>is_daytime</th>\n",
       "      <th>weather_data_filename</th>\n",
       "      <th>weather_description</th>\n",
       "      <th>partition</th>\n",
       "    </tr>\n",
       "  </thead>\n",
       "  <tbody>\n",
       "    <tr>\n",
       "      <th>0</th>\n",
       "      <td>589</td>\n",
       "      <td>1447258654_cctv589.jpg</td>\n",
       "      <td>7</td>\n",
       "      <td>10</td>\n",
       "      <td>10</td>\n",
       "      <td>24</td>\n",
       "      <td>17</td>\n",
       "      <td>0.086155</td>\n",
       "      <td>1447258654</td>\n",
       "      <td>426</td>\n",
       "      <td>121</td>\n",
       "      <td>57.17</td>\n",
       "      <td>VWE S MP4.63 (Exit 6 Jamaica Ave) - MP2.66 (Ex...</td>\n",
       "      <td>1447258654_speed_data.txt</td>\n",
       "      <td>11</td>\n",
       "      <td>True</td>\n",
       "      <td>1447258654_weather_data.json</td>\n",
       "      <td>Rain</td>\n",
       "      <td>DAY_589_Rain</td>\n",
       "    </tr>\n",
       "    <tr>\n",
       "      <th>1</th>\n",
       "      <td>594</td>\n",
       "      <td>1447258654_cctv594.jpg</td>\n",
       "      <td>5</td>\n",
       "      <td>12</td>\n",
       "      <td>12</td>\n",
       "      <td>13</td>\n",
       "      <td>6</td>\n",
       "      <td>0.050327</td>\n",
       "      <td>1447258654</td>\n",
       "      <td>427</td>\n",
       "      <td>857</td>\n",
       "      <td>9.94</td>\n",
       "      <td>VWE S MP6.39 (Exit 11 Jewel Ave) - MP4.63 (Exi...</td>\n",
       "      <td>1447258654_speed_data.txt</td>\n",
       "      <td>11</td>\n",
       "      <td>True</td>\n",
       "      <td>1447258654_weather_data.json</td>\n",
       "      <td>Rain</td>\n",
       "      <td>DAY_594_Rain</td>\n",
       "    </tr>\n",
       "    <tr>\n",
       "      <th>2</th>\n",
       "      <td>589</td>\n",
       "      <td>1447260454_cctv589.jpg</td>\n",
       "      <td>11</td>\n",
       "      <td>9</td>\n",
       "      <td>9</td>\n",
       "      <td>28</td>\n",
       "      <td>17</td>\n",
       "      <td>0.084551</td>\n",
       "      <td>1447260454</td>\n",
       "      <td>426</td>\n",
       "      <td>120</td>\n",
       "      <td>57.17</td>\n",
       "      <td>VWE S MP4.63 (Exit 6 Jamaica Ave) - MP2.66 (Ex...</td>\n",
       "      <td>1447260454_speed_data.txt</td>\n",
       "      <td>11</td>\n",
       "      <td>True</td>\n",
       "      <td>1447260454_weather_data.json</td>\n",
       "      <td>Rain</td>\n",
       "      <td>DAY_589_Rain</td>\n",
       "    </tr>\n",
       "    <tr>\n",
       "      <th>3</th>\n",
       "      <td>594</td>\n",
       "      <td>1447260454_cctv594.jpg</td>\n",
       "      <td>5</td>\n",
       "      <td>20</td>\n",
       "      <td>20</td>\n",
       "      <td>17</td>\n",
       "      <td>9</td>\n",
       "      <td>0.054599</td>\n",
       "      <td>1447260454</td>\n",
       "      <td>427</td>\n",
       "      <td>867</td>\n",
       "      <td>9.94</td>\n",
       "      <td>VWE S MP6.39 (Exit 11 Jewel Ave) - MP4.63 (Exi...</td>\n",
       "      <td>1447260454_speed_data.txt</td>\n",
       "      <td>11</td>\n",
       "      <td>True</td>\n",
       "      <td>1447260454_weather_data.json</td>\n",
       "      <td>Rain</td>\n",
       "      <td>DAY_594_Rain</td>\n",
       "    </tr>\n",
       "    <tr>\n",
       "      <th>4</th>\n",
       "      <td>594</td>\n",
       "      <td>1447262255_cctv594.jpg</td>\n",
       "      <td>5</td>\n",
       "      <td>29</td>\n",
       "      <td>29</td>\n",
       "      <td>27</td>\n",
       "      <td>7</td>\n",
       "      <td>0.054990</td>\n",
       "      <td>1447262255</td>\n",
       "      <td>427</td>\n",
       "      <td>829</td>\n",
       "      <td>9.94</td>\n",
       "      <td>VWE S MP6.39 (Exit 11 Jewel Ave) - MP4.63 (Exi...</td>\n",
       "      <td>1447262255_speed_data.txt</td>\n",
       "      <td>12</td>\n",
       "      <td>True</td>\n",
       "      <td>1447262255_weather_data.json</td>\n",
       "      <td>Clouds</td>\n",
       "      <td>DAY_594_Clouds</td>\n",
       "    </tr>\n",
       "  </tbody>\n",
       "</table>\n",
       "</div>"
      ],
      "text/plain": [
       "  camera_id                filename  image_object_ct  image_object_ct_c  \\\n",
       "0       589  1447258654_cctv589.jpg                7                 10   \n",
       "1       594  1447258654_cctv594.jpg                5                 12   \n",
       "2       589  1447260454_cctv589.jpg               11                  9   \n",
       "3       594  1447260454_cctv594.jpg                5                 20   \n",
       "4       594  1447262255_cctv594.jpg                5                 29   \n",
       "\n",
       "   image_object_ct_l  image_object_ct_lr  image_object_ct_r  image_std  \\\n",
       "0                 10                  24                 17   0.086155   \n",
       "1                 12                  13                  6   0.050327   \n",
       "2                  9                  28                 17   0.084551   \n",
       "3                 20                  17                  9   0.054599   \n",
       "4                 29                  27                  7   0.054990   \n",
       "\n",
       "    timestamp location_id  travel_time  speed  \\\n",
       "0  1447258654         426          121  57.17   \n",
       "1  1447258654         427          857   9.94   \n",
       "2  1447260454         426          120  57.17   \n",
       "3  1447260454         427          867   9.94   \n",
       "4  1447262255         427          829   9.94   \n",
       "\n",
       "                                       location_name  \\\n",
       "0  VWE S MP4.63 (Exit 6 Jamaica Ave) - MP2.66 (Ex...   \n",
       "1  VWE S MP6.39 (Exit 11 Jewel Ave) - MP4.63 (Exi...   \n",
       "2  VWE S MP4.63 (Exit 6 Jamaica Ave) - MP2.66 (Ex...   \n",
       "3  VWE S MP6.39 (Exit 11 Jewel Ave) - MP4.63 (Exi...   \n",
       "4  VWE S MP6.39 (Exit 11 Jewel Ave) - MP4.63 (Exi...   \n",
       "\n",
       "         speed_data_filename hour is_daytime         weather_data_filename  \\\n",
       "0  1447258654_speed_data.txt   11       True  1447258654_weather_data.json   \n",
       "1  1447258654_speed_data.txt   11       True  1447258654_weather_data.json   \n",
       "2  1447260454_speed_data.txt   11       True  1447260454_weather_data.json   \n",
       "3  1447260454_speed_data.txt   11       True  1447260454_weather_data.json   \n",
       "4  1447262255_speed_data.txt   12       True  1447262255_weather_data.json   \n",
       "\n",
       "  weather_description       partition  \n",
       "0                Rain    DAY_589_Rain  \n",
       "1                Rain    DAY_594_Rain  \n",
       "2                Rain    DAY_589_Rain  \n",
       "3                Rain    DAY_594_Rain  \n",
       "4              Clouds  DAY_594_Clouds  "
      ]
     },
     "execution_count": 7,
     "metadata": {},
     "output_type": "execute_result"
    }
   ],
   "source": [
    "#project_data['partition'] = \n",
    "\n",
    "def partition_data(row):\n",
    "    partition = \"\"\n",
    "    if row['is_daytime'] and  row['weather_description'] == 'Clear':\n",
    "        partition = 'H'+row[['hour','camera_id','weather_description']].str.cat(sep='_')\n",
    "    elif row['is_daytime'] and  not(row['weather_description'] == 'Clear'):\n",
    "        partition = 'DAY_'+row[['camera_id','weather_description']].str.cat(sep='_')\n",
    "    elif not(row['is_daytime']):\n",
    "        partition = 'NIGHT_'+row[['camera_id','weather_description']].str.cat(sep='_')\n",
    "    else:\n",
    "        partition = \"Undefined partition... HELP!!!\"\n",
    "    return partition\n",
    "\n",
    "project_data['partition']= project_data.apply(partition_data,axis=1)\n",
    "project_data.head()"
   ]
  },
  {
   "cell_type": "markdown",
   "metadata": {},
   "source": [
    "## Selecting Test Data"
   ]
  },
  {
   "cell_type": "markdown",
   "metadata": {},
   "source": [
    "Now that we defined our partitions, we now will choose a partition to evaluate the feasability of modeling s=f(i), where s= road spee and i = image feature.\n",
    "\n",
    "Selecting a good partition is not an obvious task. The Van Wyck Expressway is notorious for it's heavy traffic. There is no point on selecting the 5PM partition, we know that it will most certanly be moving at snail pace.\n",
    "\n",
    "We want a partition that meets the following criteria:\n",
    "\n",
    "* Has a good image sample size\n",
    "* Has a high standard deviation of the road speed."
   ]
  },
  {
   "cell_type": "code",
   "execution_count": 8,
   "metadata": {
    "collapsed": false
   },
   "outputs": [
    {
     "data": {
      "text/plain": [
       "partition\n",
       "NIGHT_589_Clear    136\n",
       "NIGHT_592_Clear    129\n",
       "NIGHT_590_Clear    115\n",
       "NIGHT_594_Clear     46\n",
       "NIGHT_593_Clear     32\n",
       "Name: speed, dtype: int64"
      ]
     },
     "execution_count": 8,
     "metadata": {},
     "output_type": "execute_result"
    }
   ],
   "source": [
    "candidate_partitions = project_data.groupby('partition').count().sort_values(by='speed',ascending=False)['speed'].head()\n",
    "\n",
    "candidate_partitions"
   ]
  },
  {
   "cell_type": "markdown",
   "metadata": {},
   "source": [
    "From the above table, let's select our ideal partition based on the standard deviation of the road speed"
   ]
  },
  {
   "cell_type": "code",
   "execution_count": 9,
   "metadata": {
    "collapsed": false
   },
   "outputs": [],
   "source": [
    "candidate_partitions = candidate_partitions.index.values.tolist()"
   ]
  },
  {
   "cell_type": "code",
   "execution_count": 10,
   "metadata": {
    "collapsed": false
   },
   "outputs": [
    {
     "data": {
      "text/plain": [
       "partition\n",
       "NIGHT_589_Clear    11.436169\n",
       "NIGHT_592_Clear    11.195258\n",
       "NIGHT_590_Clear    19.090979\n",
       "NIGHT_594_Clear    13.451157\n",
       "NIGHT_593_Clear     9.719130\n",
       "Name: speed, dtype: float64"
      ]
     },
     "execution_count": 10,
     "metadata": {},
     "output_type": "execute_result"
    }
   ],
   "source": [
    "partitions = project_data.groupby('partition').std().sort_values(by='speed',ascending=False)['speed'].loc[candidate_partitions]\n",
    "partitions\n"
   ]
  },
  {
   "cell_type": "markdown",
   "metadata": {},
   "source": [
    "As we can see above, our ideal candidate for this initial analysis is **NIGHT_590_Clear**"
   ]
  },
  {
   "cell_type": "markdown",
   "metadata": {},
   "source": [
    "## Regression Analysis of NIGHT_590_Clear\n",
    "\n",
    "Let's assess the correlation between the image features and the traffic speed:"
   ]
  },
  {
   "cell_type": "code",
   "execution_count": 11,
   "metadata": {
    "collapsed": true
   },
   "outputs": [],
   "source": [
    "import statsmodels.formula.api as sm\n",
    "test_data = pd.DataFrame(project_data[project_data['partition']=='NIGHT_590_Clear'])"
   ]
  },
  {
   "cell_type": "code",
   "execution_count": 12,
   "metadata": {
    "collapsed": false
   },
   "outputs": [
    {
     "name": "stdout",
     "output_type": "stream",
     "text": [
      "Intercept             45.674325\n",
      "image_std              2.709476\n",
      "image_object_ct       -1.983286\n",
      "image_object_ct_l      0.402466\n",
      "image_object_ct_r      0.561381\n",
      "image_object_ct_c      0.402466\n",
      "image_object_ct_lr    -0.696174\n",
      "dtype: float64\n"
     ]
    }
   ],
   "source": [
    "result = sm.ols(formula=\"speed ~ image_std+image_object_ct+image_object_ct_l+image_object_ct_r+image_object_ct_c+image_object_ct_lr\", data=test_data).fit()\n",
    "print result.params"
   ]
  },
  {
   "cell_type": "code",
   "execution_count": 13,
   "metadata": {
    "collapsed": false
   },
   "outputs": [
    {
     "name": "stdout",
     "output_type": "stream",
     "text": [
      "                            OLS Regression Results                            \n",
      "==============================================================================\n",
      "Dep. Variable:                  speed   R-squared:                       0.257\n",
      "Model:                            OLS   Adj. R-squared:                  0.223\n",
      "Method:                 Least Squares   F-statistic:                     7.543\n",
      "Date:                Thu, 03 Dec 2015   Prob (F-statistic):           4.08e-06\n",
      "Time:                        10:55:49   Log-Likelihood:                -484.75\n",
      "No. Observations:                 115   AIC:                             981.5\n",
      "Df Residuals:                     109   BIC:                             998.0\n",
      "Df Model:                           5                                         \n",
      "Covariance Type:            nonrobust                                         \n",
      "======================================================================================\n",
      "                         coef    std err          t      P>|t|      [95.0% Conf. Int.]\n",
      "--------------------------------------------------------------------------------------\n",
      "Intercept             45.6743      8.970      5.092      0.000        27.895    63.453\n",
      "image_std              2.7095     37.427      0.072      0.942       -71.469    76.888\n",
      "image_object_ct       -1.9833      0.465     -4.269      0.000        -2.904    -1.062\n",
      "image_object_ct_l      0.4025      0.414      0.972      0.333        -0.418     1.223\n",
      "image_object_ct_r      0.5614      0.890      0.631      0.530        -1.203     2.326\n",
      "image_object_ct_c      0.4025      0.414      0.972      0.333        -0.418     1.223\n",
      "image_object_ct_lr    -0.6962      0.807     -0.863      0.390        -2.295     0.903\n",
      "==============================================================================\n",
      "Omnibus:                       15.494   Durbin-Watson:                   1.210\n",
      "Prob(Omnibus):                  0.000   Jarque-Bera (JB):                8.696\n",
      "Skew:                          -0.505   Prob(JB):                       0.0129\n",
      "Kurtosis:                       2.107   Cond. No.                     3.71e+16\n",
      "==============================================================================\n",
      "\n",
      "Warnings:\n",
      "[1] Standard Errors assume that the covariance matrix of the errors is correctly specified.\n",
      "[2] The smallest eigenvalue is 6.38e-29. This might indicate that there are\n",
      "strong multicollinearity problems or that the design matrix is singular.\n"
     ]
    }
   ],
   "source": [
    "print result.summary()"
   ]
  },
  {
   "cell_type": "markdown",
   "metadata": {},
   "source": [
    "From the above results, we can see that the only statistically significant feature is the image_object_ct (with P<0.01). However, an R-squared of  **0.257** does not suggest a strong enough linear relationship to suggest that we can model **speed = $\\alpha$ image_object_ct + $\\beta$**. Let's see a scattered plot of the variables in question:"
   ]
  },
  {
   "cell_type": "code",
   "execution_count": 14,
   "metadata": {
    "collapsed": false
   },
   "outputs": [
    {
     "data": {
      "text/plain": [
       "<matplotlib.axes._subplots.AxesSubplot at 0x1f2844e0>"
      ]
     },
     "execution_count": 14,
     "metadata": {},
     "output_type": "execute_result"
    },
    {
     "name": "stderr",
     "output_type": "stream",
     "text": [
      "C:\\Users\\malarcon\\Anaconda2\\lib\\site-packages\\matplotlib\\collections.py:590: FutureWarning: elementwise comparison failed; returning scalar instead, but in the future will perform elementwise comparison\n",
      "  if self._edgecolors == str('face'):\n"
     ]
    },
    {
     "data": {
      "image/png": "[encoded data removed]",
      "text/plain": [
       "<matplotlib.figure.Figure at 0x1f284198>"
      ]
     },
     "metadata": {},
     "output_type": "display_data"
    }
   ],
   "source": [
    "test_data[['speed','image_object_ct']].plot(kind='scatter', x='image_object_ct', y='speed')"
   ]
  },
  {
   "cell_type": "markdown",
   "metadata": {
    "collapsed": false
   },
   "source": [
    "If we notice the \"triangular\" shape that this scatter plot takes, perhaps we can try to define a probabilistic model such as **P(Congestion) = F(image_object_ct)**"
   ]
  },
  {
   "cell_type": "markdown",
   "metadata": {},
   "source": [
    "## Modeling a Probability Distribution Function of Congestion by Logistic Regression\n",
    "\n",
    "First, let's define the following features for the model:\n",
    "\n",
    "* Congestion: Speed <= 30\n",
    "* High Object Ct (7): image_object_ct >= 10"
   ]
  },
  {
   "cell_type": "code",
   "execution_count": 15,
   "metadata": {
    "collapsed": false
   },
   "outputs": [],
   "source": [
    "test_data['congestion'] = test_data['speed'] <= 30\n",
    "test_data['image_object_ct_ge_10'] = test_data['image_object_ct'] >= 10\n"
   ]
  },
  {
   "cell_type": "markdown",
   "metadata": {},
   "source": [
    "Let's now evaluate each these potential PDFs using the logit model:"
   ]
  },
  {
   "cell_type": "code",
   "execution_count": 16,
   "metadata": {
    "collapsed": false
   },
   "outputs": [
    {
     "name": "stdout",
     "output_type": "stream",
     "text": [
      "Optimization terminated successfully.\n",
      "         Current function value: 0.650290\n",
      "         Iterations 5\n",
      "                           Logit Regression Results                           \n",
      "==============================================================================\n",
      "Dep. Variable:             congestion   No. Observations:                  115\n",
      "Model:                          Logit   Df Residuals:                      114\n",
      "Method:                           MLE   Df Model:                            0\n",
      "Date:                Thu, 03 Dec 2015   Pseudo R-squ.:                 0.05014\n",
      "Time:                        10:55:49   Log-Likelihood:                -74.783\n",
      "converged:                       True   LL-Null:                       -78.731\n",
      "                                        LLR p-value:                       nan\n",
      "=========================================================================================\n",
      "                            coef    std err          z      P>|z|      [95.0% Conf. Int.]\n",
      "-----------------------------------------------------------------------------------------\n",
      "image_object_ct_ge_10     1.2321      0.430      2.868      0.004         0.390     2.074\n",
      "=========================================================================================\n"
     ]
    }
   ],
   "source": [
    "speed_logit = sm.Logit(test_data['congestion'],test_data[['image_object_ct_ge_10']]).fit()\n",
    "print speed_logit.summary()"
   ]
  },
  {
   "cell_type": "markdown",
   "metadata": {},
   "source": [
    "From the results above, we can see that an image_object_ct with more than 10 objects is positively correlated with traffic congestion with a P<0.05.\n",
    "\n",
    "Let's see what the theoretical probabilities are and how they stack up to the observed probabilities."
   ]
  },
  {
   "cell_type": "code",
   "execution_count": 17,
   "metadata": {
    "collapsed": false
   },
   "outputs": [
    {
     "data": {
      "text/plain": [
       "array([ 0.77419355,  0.5       ])"
      ]
     },
     "execution_count": 17,
     "metadata": {},
     "output_type": "execute_result"
    }
   ],
   "source": [
    "speed_logit.predict(pd.DataFrame({'image_object_ct_ge_10' : pd.Series([True,False])}))"
   ]
  },
  {
   "cell_type": "markdown",
   "metadata": {
    "collapsed": true
   },
   "source": [
    "From the above predicted values, we can say that if the object count is greater than 10, the probability of traffic congestion is 77%. Otherwise, the probability of congestion is 50%\n",
    "\n",
    "# Conclusion\n",
    "\n",
    "It is possible to build some sort of statistical model that correlates traditional quantitative data such as traffic speed to algorithmically extracted features from unstructured data, images in particular.\n",
    "\n",
    "Exploring more sophisticated feature extraction algorithms is a well-worth pursuit which should yield in data that can be used in a linear regression and other quantitative models."
   ]
  },
  {
   "cell_type": "code",
   "execution_count": null,
   "metadata": {
    "collapsed": true
   },
   "outputs": [],
   "source": []
  }
 ],
 "metadata": {
  "kernelspec": {
   "display_name": "Python 2",
   "language": "python",
   "name": "python2"
  },
  "language_info": {
   "codemirror_mode": {
    "name": "ipython",
    "version": 2
   },
   "file_extension": ".py",
   "mimetype": "text/x-python",
   "name": "python",
   "nbconvert_exporter": "python",
   "pygments_lexer": "ipython2",
   "version": "2.7.10"
  }
 },
 "nbformat": 4,
 "nbformat_minor": 0
}
