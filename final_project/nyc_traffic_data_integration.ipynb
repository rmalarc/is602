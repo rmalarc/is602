{
 "cells": [
  {
   "cell_type": "code",
   "execution_count": 1,
   "metadata": {
    "collapsed": false
   },
   "outputs": [],
   "source": [
    "%matplotlib inline"
   ]
  },
  {
   "cell_type": "markdown",
   "metadata": {},
   "source": [
    "# Data Integration\n",
    "\n",
    "Now it's time to integrate our datasources. The goal is to combine:\n",
    "\n",
    "* Camera Image features: This is the feature dataset we obtained in the pervious section\n",
    "* Weather: For the time being, we're interested in datapoints that affect ligthing conditions such as: sunrise, sunset, rainfall and cloud cover\n",
    "* Traffic speed data: We will get speed and location name data\n",
    "\n",
    "We will export the combined dataset as CSV for further analysis. As a summary, the following data map illustrates the position of the cameras as well as certain key landmarks that are referenced in the datasources.\n",
    "\n",
    "![](https://raw.githubusercontent.com/rmalarc/is602/master/final_project/data_map.jpg)"
   ]
  },
  {
   "cell_type": "markdown",
   "metadata": {},
   "source": [
    "## The Code"
   ]
  },
  {
   "cell_type": "code",
   "execution_count": 2,
   "metadata": {
    "collapsed": true
   },
   "outputs": [],
   "source": [
    "#from __future__ import print_function\n",
    "\n",
    "#import math\n",
    "#import numpy as np\n",
    "#import matplotlib.pyplot as plt\n",
    "import os\n",
    "import pandas as pd"
   ]
  },
  {
   "cell_type": "markdown",
   "metadata": {},
   "source": [
    "### Traffic Data"
   ]
  },
  {
   "cell_type": "markdown",
   "metadata": {},
   "source": [
    "Let's look at a sample of the previously downloaded traffic data."
   ]
  },
  {
   "cell_type": "code",
   "execution_count": 3,
   "metadata": {
    "collapsed": false
   },
   "outputs": [
    {
     "data": {
      "text/html": [
       "<div>\n",
       "<table border=\"1\" class=\"dataframe\">\n",
       "  <thead>\n",
       "    <tr style=\"text-align: right;\">\n",
       "      <th></th>\n",
       "      <th>Id</th>\n",
       "      <th>TravelTime</th>\n",
       "      <th>Speed</th>\n",
       "      <th>linkName</th>\n",
       "    </tr>\n",
       "  </thead>\n",
       "  <tbody>\n",
       "    <tr>\n",
       "      <th>32</th>\n",
       "      <td>171</td>\n",
       "      <td>255</td>\n",
       "      <td>47.85</td>\n",
       "      <td>Belt Pkwy W JFK Expressway - VWE N Jamaica Ave</td>\n",
       "    </tr>\n",
       "    <tr>\n",
       "      <th>119</th>\n",
       "      <td>422</td>\n",
       "      <td>308</td>\n",
       "      <td>29.20</td>\n",
       "      <td>VWE N MP4.63 (Exit 6 - Jamaica Ave) - MP6.39 (Exit 11 Jewel Ave)</td>\n",
       "    </tr>\n",
       "    <tr>\n",
       "      <th>120</th>\n",
       "      <td>423</td>\n",
       "      <td>98</td>\n",
       "      <td>55.30</td>\n",
       "      <td>VWE N MP6.39 (Exit 11 Jewel Ave) - MP8.65 (Exit 13 Northern Blvd)</td>\n",
       "    </tr>\n",
       "    <tr>\n",
       "      <th>121</th>\n",
       "      <td>424</td>\n",
       "      <td>182</td>\n",
       "      <td>29.83</td>\n",
       "      <td>VWE N MP8.64 (Exit 13 Northern Blvd) - Whitestone Expwy Exit 14 (Linden Pl)</td>\n",
       "    </tr>\n",
       "    <tr>\n",
       "      <th>122</th>\n",
       "      <td>425</td>\n",
       "      <td>242</td>\n",
       "      <td>44.74</td>\n",
       "      <td>VWE S MP2.66 (Exit 2 Rockaway Blvd) - Belt Pkwy E 182nd St</td>\n",
       "    </tr>\n",
       "    <tr>\n",
       "      <th>123</th>\n",
       "      <td>426</td>\n",
       "      <td>121</td>\n",
       "      <td>57.17</td>\n",
       "      <td>VWE S MP4.63 (Exit 6 Jamaica Ave) - MP2.66 (Exit 2 Roackaway Blvd)</td>\n",
       "    </tr>\n",
       "    <tr>\n",
       "      <th>124</th>\n",
       "      <td>427</td>\n",
       "      <td>857</td>\n",
       "      <td>9.94</td>\n",
       "      <td>VWE S MP6.39 (Exit 11 Jewel Ave) - MP4.63 (Exit 6 Jamaica Ave)</td>\n",
       "    </tr>\n",
       "    <tr>\n",
       "      <th>125</th>\n",
       "      <td>428</td>\n",
       "      <td>101</td>\n",
       "      <td>52.82</td>\n",
       "      <td>VWE S MP8.65 (Exit 13 Northern Blvd) - MP6.39 (Exit 11 Jewel Ave)</td>\n",
       "    </tr>\n",
       "    <tr>\n",
       "      <th>146</th>\n",
       "      <td>453</td>\n",
       "      <td>93</td>\n",
       "      <td>55.30</td>\n",
       "      <td>Whitestone Expwy S Exit 14 (Linden Pl) - VWE S MP8.65 (Exit 13 Northern Blvd)</td>\n",
       "    </tr>\n",
       "  </tbody>\n",
       "</table>\n",
       "</div>"
      ],
      "text/plain": [
       "      Id  TravelTime  Speed  \\\n",
       "32   171         255  47.85   \n",
       "119  422         308  29.20   \n",
       "120  423          98  55.30   \n",
       "121  424         182  29.83   \n",
       "122  425         242  44.74   \n",
       "123  426         121  57.17   \n",
       "124  427         857   9.94   \n",
       "125  428         101  52.82   \n",
       "146  453          93  55.30   \n",
       "\n",
       "                                                                          linkName  \n",
       "32                                  Belt Pkwy W JFK Expressway - VWE N Jamaica Ave  \n",
       "119               VWE N MP4.63 (Exit 6 - Jamaica Ave) - MP6.39 (Exit 11 Jewel Ave)  \n",
       "120              VWE N MP6.39 (Exit 11 Jewel Ave) - MP8.65 (Exit 13 Northern Blvd)  \n",
       "121    VWE N MP8.64 (Exit 13 Northern Blvd) - Whitestone Expwy Exit 14 (Linden Pl)  \n",
       "122                     VWE S MP2.66 (Exit 2 Rockaway Blvd) - Belt Pkwy E 182nd St  \n",
       "123             VWE S MP4.63 (Exit 6 Jamaica Ave) - MP2.66 (Exit 2 Roackaway Blvd)  \n",
       "124                 VWE S MP6.39 (Exit 11 Jewel Ave) - MP4.63 (Exit 6 Jamaica Ave)  \n",
       "125              VWE S MP8.65 (Exit 13 Northern Blvd) - MP6.39 (Exit 11 Jewel Ave)  \n",
       "146  Whitestone Expwy S Exit 14 (Linden Pl) - VWE S MP8.65 (Exit 13 Northern Blvd)  "
      ]
     },
     "execution_count": 3,
     "metadata": {},
     "output_type": "execute_result"
    }
   ],
   "source": [
    "traffic_data = pd.DataFrame().from_csv(\"camera_data/1447258654_speed_data.txt\",sep=\"\\t\", index_col=False)\n",
    "pd.options.display.max_colwidth =1000\n",
    "traffic_data[['Id','TravelTime','Speed','linkName']].loc[traffic_data['linkName'].str.contains(\"VWE\")]"
   ]
  },
  {
   "cell_type": "markdown",
   "metadata": {},
   "source": [
    "As we can see above, there is traffic data available for multiple locations along the Van Wyck Expressway. Let's create a mapping table to keep the camera_id  to location_id \n"
   ]
  },
  {
   "cell_type": "code",
   "execution_count": 4,
   "metadata": {
    "collapsed": false
   },
   "outputs": [
    {
     "data": {
      "text/html": [
       "<div>\n",
       "<table border=\"1\" class=\"dataframe\">\n",
       "  <thead>\n",
       "    <tr style=\"text-align: right;\">\n",
       "      <th></th>\n",
       "      <th>camera_id</th>\n",
       "      <th>location_id</th>\n",
       "    </tr>\n",
       "  </thead>\n",
       "  <tbody>\n",
       "    <tr>\n",
       "      <th>0</th>\n",
       "      <td>594</td>\n",
       "      <td>427</td>\n",
       "    </tr>\n",
       "    <tr>\n",
       "      <th>1</th>\n",
       "      <td>593</td>\n",
       "      <td>422</td>\n",
       "    </tr>\n",
       "    <tr>\n",
       "      <th>2</th>\n",
       "      <td>592</td>\n",
       "      <td>426</td>\n",
       "    </tr>\n",
       "    <tr>\n",
       "      <th>3</th>\n",
       "      <td>589</td>\n",
       "      <td>426</td>\n",
       "    </tr>\n",
       "    <tr>\n",
       "      <th>4</th>\n",
       "      <td>590</td>\n",
       "      <td>171</td>\n",
       "    </tr>\n",
       "  </tbody>\n",
       "</table>\n",
       "</div>"
      ],
      "text/plain": [
       "  camera_id location_id\n",
       "0       594         427\n",
       "1       593         422\n",
       "2       592         426\n",
       "3       589         426\n",
       "4       590         171"
      ]
     },
     "execution_count": 4,
     "metadata": {},
     "output_type": "execute_result"
    }
   ],
   "source": [
    "location_to_camera_mapping = pd.DataFrame({'location_id':['427','422','426','426','171']\n",
    "                                               ,'camera_id':['594','593','592','589','590']})\n",
    "location_to_camera_mapping"
   ]
  },
  {
   "cell_type": "markdown",
   "metadata": {},
   "source": [
    "With this mapping table, let's load all traffic data for the locations of interest into a dataframe:"
   ]
  },
  {
   "cell_type": "code",
   "execution_count": 5,
   "metadata": {
    "collapsed": false,
    "scrolled": true
   },
   "outputs": [
    {
     "data": {
      "text/html": [
       "<div>\n",
       "<table border=\"1\" class=\"dataframe\">\n",
       "  <thead>\n",
       "    <tr style=\"text-align: right;\">\n",
       "      <th></th>\n",
       "      <th>location_id</th>\n",
       "      <th>travel_time</th>\n",
       "      <th>speed</th>\n",
       "      <th>location_name</th>\n",
       "      <th>camera_id</th>\n",
       "      <th>speed_data_filename</th>\n",
       "      <th>timestamp</th>\n",
       "    </tr>\n",
       "  </thead>\n",
       "  <tbody>\n",
       "    <tr>\n",
       "      <th>0</th>\n",
       "      <td>171</td>\n",
       "      <td>255</td>\n",
       "      <td>47.85</td>\n",
       "      <td>Belt Pkwy W JFK Expressway - VWE N Jamaica Ave</td>\n",
       "      <td>590</td>\n",
       "      <td>1447258654_speed_data.txt</td>\n",
       "      <td>1447258654</td>\n",
       "    </tr>\n",
       "    <tr>\n",
       "      <th>1</th>\n",
       "      <td>422</td>\n",
       "      <td>308</td>\n",
       "      <td>29.20</td>\n",
       "      <td>VWE N MP4.63 (Exit 6 - Jamaica Ave) - MP6.39 (Exit 11 Jewel Ave)</td>\n",
       "      <td>593</td>\n",
       "      <td>1447258654_speed_data.txt</td>\n",
       "      <td>1447258654</td>\n",
       "    </tr>\n",
       "    <tr>\n",
       "      <th>2</th>\n",
       "      <td>426</td>\n",
       "      <td>121</td>\n",
       "      <td>57.17</td>\n",
       "      <td>VWE S MP4.63 (Exit 6 Jamaica Ave) - MP2.66 (Exit 2 Roackaway Blvd)</td>\n",
       "      <td>592</td>\n",
       "      <td>1447258654_speed_data.txt</td>\n",
       "      <td>1447258654</td>\n",
       "    </tr>\n",
       "    <tr>\n",
       "      <th>3</th>\n",
       "      <td>426</td>\n",
       "      <td>121</td>\n",
       "      <td>57.17</td>\n",
       "      <td>VWE S MP4.63 (Exit 6 Jamaica Ave) - MP2.66 (Exit 2 Roackaway Blvd)</td>\n",
       "      <td>589</td>\n",
       "      <td>1447258654_speed_data.txt</td>\n",
       "      <td>1447258654</td>\n",
       "    </tr>\n",
       "    <tr>\n",
       "      <th>4</th>\n",
       "      <td>427</td>\n",
       "      <td>857</td>\n",
       "      <td>9.94</td>\n",
       "      <td>VWE S MP6.39 (Exit 11 Jewel Ave) - MP4.63 (Exit 6 Jamaica Ave)</td>\n",
       "      <td>594</td>\n",
       "      <td>1447258654_speed_data.txt</td>\n",
       "      <td>1447258654</td>\n",
       "    </tr>\n",
       "  </tbody>\n",
       "</table>\n",
       "</div>"
      ],
      "text/plain": [
       "  location_id  travel_time  speed  \\\n",
       "0         171          255  47.85   \n",
       "1         422          308  29.20   \n",
       "2         426          121  57.17   \n",
       "3         426          121  57.17   \n",
       "4         427          857   9.94   \n",
       "\n",
       "                                                        location_name  \\\n",
       "0                      Belt Pkwy W JFK Expressway - VWE N Jamaica Ave   \n",
       "1    VWE N MP4.63 (Exit 6 - Jamaica Ave) - MP6.39 (Exit 11 Jewel Ave)   \n",
       "2  VWE S MP4.63 (Exit 6 Jamaica Ave) - MP2.66 (Exit 2 Roackaway Blvd)   \n",
       "3  VWE S MP4.63 (Exit 6 Jamaica Ave) - MP2.66 (Exit 2 Roackaway Blvd)   \n",
       "4      VWE S MP6.39 (Exit 11 Jewel Ave) - MP4.63 (Exit 6 Jamaica Ave)   \n",
       "\n",
       "  camera_id        speed_data_filename   timestamp  \n",
       "0       590  1447258654_speed_data.txt  1447258654  \n",
       "1       593  1447258654_speed_data.txt  1447258654  \n",
       "2       592  1447258654_speed_data.txt  1447258654  \n",
       "3       589  1447258654_speed_data.txt  1447258654  \n",
       "4       594  1447258654_speed_data.txt  1447258654  "
      ]
     },
     "execution_count": 5,
     "metadata": {},
     "output_type": "execute_result"
    }
   ],
   "source": [
    "traffic_data_df = pd.DataFrame() \n",
    "base_dir = \"./camera_data/\"\n",
    "\n",
    "\n",
    "for filename in os.listdir(base_dir):\n",
    "    if '4_speed_data.txt' in filename:\n",
    "        timestamp = filename[:10]\n",
    "\n",
    "        tmp = pd.DataFrame().from_csv(base_dir+filename,sep=\"\\t\", index_col=False)\n",
    "\n",
    "        # clean up the column names and data types\n",
    "        tmp = tmp[['Id','TravelTime','Speed','linkName']]\n",
    "        tmp.columns = ['location_id','travel_time','speed','location_name']\n",
    "        tmp['location_id']=tmp[['location_id']].astype(str)\n",
    "        \n",
    "        # join against location_to_Camera_mapping table\n",
    "        tmp = pd.merge(tmp, location_to_camera_mapping, how='inner', on='location_id')\n",
    "\n",
    "        # set some extra attributes\n",
    "        tmp['speed_data_filename']=filename\n",
    "        tmp['timestamp']=timestamp\n",
    "\n",
    "        traffic_data_df = traffic_data_df.append(tmp,ignore_index =True)\n",
    "\n",
    "traffic_data_df.head()\n"
   ]
  }
 ],
 "metadata": {
  "kernelspec": {
   "display_name": "Python 2",
   "language": "python",
   "name": "python2"
  },
  "language_info": {
   "codemirror_mode": {
    "name": "ipython",
    "version": 2
   },
   "file_extension": ".py",
   "mimetype": "text/x-python",
   "name": "python",
   "nbconvert_exporter": "python",
   "pygments_lexer": "ipython2",
   "version": "2.7.10"
  }
 },
 "nbformat": 4,
 "nbformat_minor": 0
}
